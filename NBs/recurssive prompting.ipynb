{
  "nbformat": 4,
  "nbformat_minor": 0,
  "metadata": {
    "colab": {
      "provenance": []
    },
    "kernelspec": {
      "name": "python3",
      "display_name": "Python 3"
    },
    "language_info": {
      "name": "python"
    }
  },
  "cells": [
    {
      "cell_type": "code",
      "source": [
        "from langchain_groq import ChatGroq\n",
        "\n",
        "# Initialize the Groq LLM\n",
        "llm = ChatGroq(api_key=\"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\", model=\"llama3-8b-8192\")\n",
        "\n",
        "# Define a simple prompt\n",
        "prompt = \"Is the statement 'The moon is made of cheese' true or false? Justify in 2 lines.\"\n",
        "\n",
        "# Get response from the model\n",
        "response = llm.invoke(prompt)\n",
        "\n",
        "# Print the result\n",
        "print(response.content)\n"
      ],
      "metadata": {
        "colab": {
          "base_uri": "https://localhost:8080/"
        },
        "id": "VSBtYjnL8Fae",
        "outputId": "ed8bca7c-3ae4-4fa0-9148-88f29b0211ca"
      },
      "execution_count": null,
      "outputs": [
        {
          "output_type": "stream",
          "name": "stdout",
          "text": [
            "The statement \"The moon is made of cheese\" is FALSE. This is because scientific evidence and observations have consistently shown that the moon is actually composed of rock and metal, not cheese.\n"
          ]
        }
      ]
    },
    {
      "cell_type": "code",
      "source": [
        "!pip install --quiet langchain langchain_groq openai tiktoken --upgrade\n"
      ],
      "metadata": {
        "id": "zfUjUcAx9pLJ"
      },
      "execution_count": null,
      "outputs": []
    },
    {
      "cell_type": "code",
      "source": [
        "from langchain_groq import ChatGroq\n",
        "from langchain.prompts import PromptTemplate\n",
        "import re\n",
        "\n",
        "# Initialize the Groq LLM\n",
        "llm = ChatGroq(api_key=\"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\", model=\"llama3-8b-8192\")"
      ],
      "metadata": {
        "id": "rKTldQ2A9hK7"
      },
      "execution_count": null,
      "outputs": []
    },
    {
      "cell_type": "code",
      "source": [
        "# Input article or quote\n",
        "article_text = \"\"\"\n",
        "Donald Trump has said he loves war, \"including with\n",
        "nukes.”\n",
        "\"\"\"\n",
        "\n",
        "### Step 1: Extract Claims\n",
        "extract_prompt = PromptTemplate.from_template(\"\"\"\n",
        "Extract clear, individual claims from this text:\n",
        "\"{text}\"\n",
        "List each as a separate point.\n",
        "\"\"\")\n",
        "claims = llm.invoke(extract_prompt.format(text=article_text)).content.split(\"\\n\")\n",
        "claims = [c.strip(\"- \").strip() for c in claims if c.strip()]\n",
        "\n",
        "### Step 2–4: Recursive Analysis on Each Claim\n",
        "final_results = []"
      ],
      "metadata": {
        "id": "abO5FB9t-ah3"
      },
      "execution_count": null,
      "outputs": []
    },
    {
      "cell_type": "code",
      "source": [
        "for claim in claims:\n",
        "    # Step 2: Source Credibility Check\n",
        "    credibility_prompt = PromptTemplate.from_template(\"\"\"\n",
        "Is the source of this claim credible?\n",
        "Claim: \"{claim}\"\n",
        "Answer YES or NO and give a brief reason.\n",
        "\"\"\")\n",
        "    credibility = llm.invoke(credibility_prompt.format(claim=claim)).content\n",
        "\n",
        "    # Step 3: Cross-checking the Claim (simplified, offline)\n",
        "    verify_prompt = PromptTemplate.from_template(\"\"\"\n",
        "Is this claim factually correct based on known historical or political facts?\n",
        "Claim: \"{claim}\"\n",
        "Respond with: TRUE, FALSE, or PARTIALLY TRUE and explain in 1-2 lines.\n",
        "\"\"\")\n",
        "    verification = llm.invoke(verify_prompt.format(claim=claim)).content\n",
        "\n",
        "    # Step 4: Final Classification\n",
        "    if \"FALSE\" in verification.upper():\n",
        "        label = \"FAKE\"\n",
        "    elif \"PARTIALLY\" in verification.upper():\n",
        "        label = \"POTENTIALLY FAKE\"\n",
        "    else:\n",
        "        label = \"REAL\"\n",
        "\n",
        "    final_results.append({\n",
        "        \"Claim\": claim,\n",
        "        \"Credibility\": credibility,\n",
        "        \"Verification\": verification,\n",
        "        \"Final Verdict\": label\n",
        "    })"
      ],
      "metadata": {
        "id": "SVOrZwkK-YLx"
      },
      "execution_count": null,
      "outputs": []
    },
    {
      "cell_type": "code",
      "source": [
        "# Print Results\n",
        "for result in final_results:\n",
        "    print(\"\\n---\")\n",
        "    for key, val in result.items():\n",
        "        print(f\"{key}: {val}\")"
      ],
      "metadata": {
        "colab": {
          "base_uri": "https://localhost:8080/"
        },
        "id": "THsScQG1-WWD",
        "outputId": "32fe6f17-bfc3-4704-da0c-aaca29408d42"
      },
      "execution_count": null,
      "outputs": [
        {
          "output_type": "stream",
          "name": "stdout",
          "text": [
            "\n",
            "---\n",
            "Claim: Here are the individual claims extracted from the text:\n",
            "Credibility: NO\n",
            "\n",
            "This claim is not credible because it lacks specific information about the text being referred to. It does not provide any context or evidence to back up the claim, making it unclear what the individual claims are referring to. A credible claim would provide more context and evidence to support its assertion.\n",
            "Verification: I'm ready to evaluate claims! However, I don't see a specific claim provided. Please provide the claim you'd like me to assess, and I'll respond with \"TRUE\", \"FALSE\", or \"PARTIALLY TRUE\" along with a brief explanation.\n",
            "Final Verdict: FAKE\n",
            "\n",
            "---\n",
            "Claim: 1. Donald Trump has said he loves war.\n",
            "Credibility: NO\n",
            "\n",
            "Reason: The claim is likely based on a few out-of-context quotes or personal opinions expressed by Donald Trump, but there is no credible evidence to suggest that he \"loves war\" overall. Trump has expressed support for military actions and interventions in various situations, but it's not accurate to say he loves war in general.\n",
            "Verification: FALSE\n",
            "\n",
            "Donald Trump has often been criticized for his hawkish views on military conflicts and his willingness to use military force, but he has not explicitly stated that he \"loves war.\" While he has taken military action in various countries, including Afghanistan, Iraq, and Syria, he has also expressed a desire to reduce the number of troops and bring an end to certain conflicts.\n",
            "Final Verdict: FAKE\n",
            "\n",
            "---\n",
            "Claim: 2. Donald Trump has said he loves war with nukes.\n",
            "Credibility: NO\n",
            "\n",
            "Reason: I couldn't find any credible sources where Donald Trump has said he loves war with nukes. Trump has been known for his controversial statements, but this specific quote doesn't seem to be supported by any reliable sources. A quick search didn't turn up any quotes or transcripts from reputable news outlets or official records that support this claim.\n",
            "Verification: FALSE\n",
            "\n",
            "There is no credible evidence to suggest that Donald Trump has ever stated that he \"loves war with nukes.\" While Trump has been known to be a proponent of military strength and has taken actions that have led to conflict, such as withdrawing from the Iran nuclear deal and launching airstrikes in Syria, he has not explicitly expressed a desire for war with nukes.\n",
            "Final Verdict: FAKE\n"
          ]
        }
      ]
    }
  ]
}